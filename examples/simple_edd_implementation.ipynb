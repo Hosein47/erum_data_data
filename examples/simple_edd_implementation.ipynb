{
 "cells": [
  {
   "cell_type": "code",
   "execution_count": 115,
   "metadata": {},
   "outputs": [],
   "source": [
    "import tensorflow as tf\n",
    "import erum_data_data as edd #import the erum_data_data module\n",
    "import numpy as np\n",
    "import matplotlib.pyplot as plt"
   ]
  },
  {
   "cell_type": "code",
   "execution_count": 52,
   "metadata": {},
   "outputs": [],
   "source": [
    "def reshape_ds(arr1, arr2):\n",
    "    arr1 = arr1.reshape(arr1.shape[0], arr1.shape[1]*arr1.shape[2], 1)\n",
    "    arr2 = arr2.reshape(arr2.shape[0], arr2.shape[1], 1)\n",
    "    arr1 = np.concatenate((arr1, arr2), axis=1)\n",
    "    return arr1"
   ]
  },
  {
   "cell_type": "code",
   "execution_count": 144,
   "metadata": {},
   "outputs": [
    {
     "name": "stdout",
     "output_type": "stream",
     "text": [
      "\n",
      "Top tagging dataset.\n",
      "\n",
      "Description:\n",
      "14tev, hadronic tops for signal, qcd diets background, delphes ATLAS detector card with pythia. No MPI/pile-up included\n",
      "Particle-flow entries (produced by Delphes E-flow) have been clustered into anti-kT 0.8 jets in the pT range [550,650].\n",
      "All top jets are matched to a parton-level top within ∆R = 0.8, and to all top decay partons within 0.8. Also,|eta|_jet < 2 has been required.\n",
      "\n",
      "Ref: \n",
      "Deep-learned Top Tagging with a Lorentz Layer by A Butter, G Kasieczka, T and M Russell (arXiv: 1707.08966)\n",
      "\n",
      "Dataset shape:\n",
      "~2M events have been stored divided between training (70%) and test (30%) and the shape of the dataset is (# of events, 200, 4).\n",
      "The feature represent the leading 200 jet constituent four-momenta, with zero-padding for jets that have less than 200.\n",
      "Constituents are sorted by pT, with the highest pT one first.\n",
      "The set label are 0 for QCD and 1 for top.\n",
      "\n"
     ]
    }
   ],
   "source": [
    "ds = 'top'\n",
    "edd.print_description(ds)"
   ]
  },
  {
   "cell_type": "code",
   "execution_count": 137,
   "metadata": {
    "scrolled": true
   },
   "outputs": [],
   "source": [
    "# loading training data into RAM (downloads dataset first time)\n",
    "\n",
    "X_train, y_train  = edd.load(ds, dataset='train', cache_dir = './'+ ds, cache_subdir = 'datasets')\n",
    "X_test, y_test = edd.load(ds, dataset='test', cache_dir = './'+ ds, cache_subdir = 'datasets')"
   ]
  },
  {
   "cell_type": "code",
   "execution_count": 138,
   "metadata": {},
   "outputs": [],
   "source": [
    "if ds == 'airshower':\n",
    "    x_train = reshape_ds(X_train[0], X_train[1])\n",
    "else:\n",
    "    x_train = X_train[0]"
   ]
  },
  {
   "cell_type": "code",
   "execution_count": 139,
   "metadata": {},
   "outputs": [
    {
     "name": "stdout",
     "output_type": "stream",
     "text": [
      "(200, 4)\n"
     ]
    }
   ],
   "source": [
    "dim1 = x_train.shape[1]\n",
    "dim2 = x_train.shape[2]\n",
    "print ((dim1, dim2))"
   ]
  },
  {
   "cell_type": "code",
   "execution_count": 140,
   "metadata": {},
   "outputs": [
    {
     "name": "stdout",
     "output_type": "stream",
     "text": [
      "(1412516, 988761, 423755)\n"
     ]
    }
   ],
   "source": [
    "#split dataset\n",
    "train_frac = 0.7\n",
    "\n",
    "ds_train = x_train[:int(len(x_train)*train_frac)], y_train[:int(len(x_train)*train_frac)]\n",
    "ds_val   = x_train[int(len(x_train)*train_frac):], y_train[int(len(x_train)*train_frac):]\n",
    "print ( (len(x_train),len(ds_train[0]), len(ds_val[0])))"
   ]
  },
  {
   "cell_type": "code",
   "execution_count": 141,
   "metadata": {
    "scrolled": true
   },
   "outputs": [
    {
     "name": "stdout",
     "output_type": "stream",
     "text": [
      "Model: \"sequential_31\"\n",
      "_________________________________________________________________\n",
      "Layer (type)                 Output Shape              Param #   \n",
      "=================================================================\n",
      "flatten_32 (Flatten)         (None, 800)               0         \n",
      "_________________________________________________________________\n",
      "dense_96 (Dense)             (None, 128)               102528    \n",
      "_________________________________________________________________\n",
      "dense_97 (Dense)             (None, 128)               16512     \n",
      "_________________________________________________________________\n",
      "dense_98 (Dense)             (None, 1)                 129       \n",
      "=================================================================\n",
      "Total params: 119,169\n",
      "Trainable params: 119,169\n",
      "Non-trainable params: 0\n",
      "_________________________________________________________________\n",
      "None\n",
      "Train on 988761 samples, validate on 423755 samples\n",
      "Epoch 1/30\n",
      "988761/988761 [==============================] - 38s 38us/sample - loss: 0.6915 - acc: 0.5317 - val_loss: 5.9529 - val_acc: 0.5319\n",
      "Epoch 2/30\n",
      "988761/988761 [==============================] - 30s 30us/sample - loss: 0.6864 - acc: 0.6238 - val_loss: 5.1841 - val_acc: 0.5741\n",
      "Epoch 3/30\n",
      "988761/988761 [==============================] - 27s 27us/sample - loss: 0.6814 - acc: 0.6493 - val_loss: 5.7530 - val_acc: 0.6153\n",
      "Epoch 4/30\n",
      "988761/988761 [==============================] - 31s 32us/sample - loss: 0.6758 - acc: 0.6545 - val_loss: 7.1800 - val_acc: 0.6384\n",
      "Epoch 5/30\n",
      "988761/988761 [==============================] - 30s 30us/sample - loss: 0.6695 - acc: 0.6559 - val_loss: 9.2474 - val_acc: 0.6483\n",
      "Epoch 6/30\n",
      "988761/988761 [==============================] - 25s 25us/sample - loss: 0.6623 - acc: 0.6566 - val_loss: 11.9166 - val_acc: 0.6530\n",
      "Epoch 7/30\n",
      "988761/988761 [==============================] - 26s 26us/sample - loss: 0.6543 - acc: 0.6568 - val_loss: 15.0695 - val_acc: 0.6564\n",
      "Epoch 8/30\n",
      "988761/988761 [==============================] - 25s 26us/sample - loss: 0.6460 - acc: 0.6578 - val_loss: 18.5830 - val_acc: 0.6588\n",
      "Epoch 9/30\n",
      "988761/988761 [==============================] - 26s 26us/sample - loss: 0.6379 - acc: 0.6589 - val_loss: 22.2857 - val_acc: 0.6612\n",
      "Epoch 10/30\n",
      "988761/988761 [==============================] - 35s 35us/sample - loss: 0.6306 - acc: 0.6603 - val_loss: 25.8197 - val_acc: 0.6637\n",
      "Epoch 11/30\n",
      "988761/988761 [==============================] - 33s 33us/sample - loss: 0.6243 - acc: 0.6621 - val_loss: 29.0599 - val_acc: 0.6664\n",
      "Epoch 12/30\n",
      "988761/988761 [==============================] - 28s 28us/sample - loss: 0.6191 - acc: 0.6639 - val_loss: 31.7889 - val_acc: 0.6692\n",
      "Epoch 13/30\n",
      "988761/988761 [==============================] - 28s 28us/sample - loss: 0.6146 - acc: 0.6663 - val_loss: 34.0063 - val_acc: 0.6720\n",
      "Epoch 14/30\n",
      "988761/988761 [==============================] - 33s 34us/sample - loss: 0.6107 - acc: 0.6687 - val_loss: 35.7908 - val_acc: 0.6748\n",
      "Epoch 15/30\n",
      "988761/988761 [==============================] - 27s 27us/sample - loss: 0.6072 - acc: 0.6710 - val_loss: 37.3874 - val_acc: 0.6767\n",
      "Epoch 16/30\n",
      "988761/988761 [==============================] - 27s 28us/sample - loss: 0.6041 - acc: 0.6737 - val_loss: 38.5272 - val_acc: 0.6787\n",
      "Epoch 17/30\n",
      "988761/988761 [==============================] - 30s 31us/sample - loss: 0.6013 - acc: 0.6761 - val_loss: 39.6367 - val_acc: 0.6801\n",
      "Epoch 18/30\n",
      "988761/988761 [==============================] - 33s 33us/sample - loss: 0.5986 - acc: 0.6784 - val_loss: 40.7895 - val_acc: 0.6809\n",
      "Epoch 19/30\n",
      "988761/988761 [==============================] - 36s 36us/sample - loss: 0.5961 - acc: 0.6806 - val_loss: 42.0027 - val_acc: 0.6813\n",
      "Epoch 20/30\n",
      "988761/988761 [==============================] - 30s 30us/sample - loss: 0.5937 - acc: 0.6826 - val_loss: 43.1640 - val_acc: 0.6813\n",
      "Epoch 21/30\n",
      "988761/988761 [==============================] - 26s 26us/sample - loss: 0.5916 - acc: 0.6845 - val_loss: 44.6711 - val_acc: 0.6804\n",
      "Epoch 22/30\n",
      "988761/988761 [==============================] - 32s 32us/sample - loss: 0.5895 - acc: 0.6862 - val_loss: 45.9409 - val_acc: 0.6798\n",
      "Epoch 23/30\n",
      "988761/988761 [==============================] - 34s 35us/sample - loss: 0.5876 - acc: 0.6878 - val_loss: 47.2930 - val_acc: 0.6786\n",
      "Epoch 24/30\n",
      "988761/988761 [==============================] - 37s 38us/sample - loss: 0.5858 - acc: 0.6893 - val_loss: 48.8631 - val_acc: 0.6766\n",
      "Epoch 25/30\n",
      "988761/988761 [==============================] - 34s 34us/sample - loss: 0.5840 - acc: 0.6908 - val_loss: 50.3938 - val_acc: 0.6746\n",
      "Epoch 26/30\n",
      "988761/988761 [==============================] - 30s 31us/sample - loss: 0.5823 - acc: 0.6920 - val_loss: 51.8075 - val_acc: 0.6729\n",
      "Epoch 27/30\n",
      "988761/988761 [==============================] - 33s 33us/sample - loss: 0.5806 - acc: 0.6934 - val_loss: 53.2905 - val_acc: 0.6707\n",
      "Epoch 28/30\n",
      "988761/988761 [==============================] - 35s 36us/sample - loss: 0.5790 - acc: 0.6947 - val_loss: 54.4449 - val_acc: 0.6689\n",
      "Epoch 29/30\n",
      "988761/988761 [==============================] - 31s 32us/sample - loss: 0.5774 - acc: 0.6959 - val_loss: 56.6421 - val_acc: 0.6653\n",
      "Epoch 30/30\n",
      "988761/988761 [==============================] - 39s 40us/sample - loss: 0.5758 - acc: 0.6972 - val_loss: 58.1250 - val_acc: 0.6626\n"
     ]
    }
   ],
   "source": [
    "model = tf.keras.models.Sequential([\n",
    "  tf.keras.layers.Flatten(input_shape=(dim1, dim2)),\n",
    "  tf.keras.layers.Dense(128,activation='relu'),\n",
    "  tf.keras.layers.Dense(128,activation='relu'),\n",
    "  tf.keras.layers.Dense(1, activation = 'sigmoid')\n",
    "])\n",
    "print(model.summary())\n",
    "model.compile(\n",
    "    optimizer=tf.keras.optimizers.SGD(0.001),\n",
    "    loss=tf.keras.losses.BinaryCrossentropy(),\n",
    "    metrics=[tf.keras.metrics.BinaryAccuracy(name = \"acc\")]#, tf.keras.metrics.AUC(name = \"AUC\")],\n",
    ")\n",
    "\n",
    "history = model.fit(\n",
    "                    x = tf.keras.utils.normalize(ds_train[0], axis = 1), y = ds_train[1],\n",
    "                    epochs=30,\n",
    "                    batch_size = 300,\n",
    "                    validation_data=ds_val,\n",
    "                )"
   ]
  },
  {
   "cell_type": "code",
   "execution_count": 142,
   "metadata": {},
   "outputs": [
    {
     "data": {
      "image/png": "[encoded data removed]",
      "text/plain": [
       "<Figure size 432x288 with 1 Axes>"
      ]
     },
     "metadata": {
      "needs_background": "light"
     },
     "output_type": "display_data"
    }
   ],
   "source": [
    "plt.plot(history.history['loss'])\n",
    "plt.plot(history.history['val_loss'])\n",
    "plt.title('model loss')\n",
    "plt.ylabel('loss')\n",
    "plt.xlabel('epoch')\n",
    "plt.legend(['train', 'val'], loc='upper left')\n",
    "plt.show()\n",
    "\n"
   ]
  },
  {
   "cell_type": "code",
   "execution_count": 143,
   "metadata": {},
   "outputs": [
    {
     "data": {
      "image/png": "[encoded data removed]",
      "text/plain": [
       "<Figure size 432x288 with 1 Axes>"
      ]
     },
     "metadata": {
      "needs_background": "light"
     },
     "output_type": "display_data"
    }
   ],
   "source": [
    "plt.plot(history.history['acc'])\n",
    "plt.plot(history.history['val_acc'])\n",
    "plt.title('model accuracy')\n",
    "plt.ylabel('binary_accuracy')\n",
    "plt.xlabel('epoch')\n",
    "plt.legend(['train', 'val'], loc='upper left')\n",
    "plt.show()"
   ]
  },
  {
   "cell_type": "code",
   "execution_count": null,
   "metadata": {},
   "outputs": [],
   "source": []
  }
 ],
 "metadata": {
  "kernelspec": {
   "display_name": "Python [conda env:erikConda]",
   "language": "python",
   "name": "conda-env-erikConda-py"
  },
  "language_info": {
   "codemirror_mode": {
    "name": "ipython",
    "version": 3
   },
   "file_extension": ".py",
   "mimetype": "text/x-python",
   "name": "python",
   "nbconvert_exporter": "python",
   "pygments_lexer": "ipython3",
   "version": "3.7.5"
  }
 },
 "nbformat": 4,
 "nbformat_minor": 2
}
