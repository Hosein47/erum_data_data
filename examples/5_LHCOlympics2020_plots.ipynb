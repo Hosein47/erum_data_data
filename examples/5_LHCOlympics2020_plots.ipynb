{
 "cells": [
  {
   "cell_type": "code",
   "execution_count": 7,
   "metadata": {},
   "outputs": [
    {
     "name": "stdout",
     "output_type": "stream",
     "text": [
      "imports dones\n"
     ]
    }
   ],
   "source": [
    "import numpy as np\n",
    "import matplotlib.pyplot as plt\n",
    "\n",
    "#import sys\n",
    "#sys.path.append('/home/buhmae/3_erum_data_data/erum_data_data/erum_data_data')\n",
    "#import importlib\n",
    "#import erum_data_data as edd\n",
    "#importlib.reload(edd)\n",
    "\n",
    "# or just:\n",
    "import erum_data_data as edd\n",
    "\n",
    "print('imports dones')"
   ]
  },
  {
   "cell_type": "code",
   "execution_count": 13,
   "metadata": {},
   "outputs": [
    {
     "name": "stdout",
     "output_type": "stream",
     "text": [
      "file was already downloaded\n"
     ]
    }
   ],
   "source": [
    "# load training and testing set\n",
    "X_train, y_train, X_test, y_test = edd.load('LHCO', cache_dir = '/home/buhmae/3_erum_data_data/erum_data_data', cache_subdir = 'datasets')"
   ]
  },
  {
   "cell_type": "code",
   "execution_count": 16,
   "metadata": {},
   "outputs": [
    {
     "name": "stdout",
     "output_type": "stream",
     "text": [
      "1\n",
      "1\n",
      "(245000, 700, 3)\n",
      "(245000,)\n",
      "(105000,)\n"
     ]
    }
   ],
   "source": [
    "# checking basic content\n",
    "\n",
    "print(len(X_train))\n",
    "print(len(X_test))\n",
    "print(X_train[0].shape)\n",
    "print(y_train.shape)\n",
    "print(y_test.shape)"
   ]
  },
  {
   "cell_type": "markdown",
   "metadata": {},
   "source": [
    "### shape:\n",
    "- 245000 collider events\n",
    "- up to 700 particles per event (zero padded)\n",
    "- 3 features (transverse momentum (pt), rapidity (y), angle phi)\n",
    "\n",
    "### labels:\n",
    "Label: (0) 250k QCD dijet events and (1) 100k W'->XY events"
   ]
  },
  {
   "cell_type": "markdown",
   "metadata": {},
   "source": [
    "## some basic plot"
   ]
  },
  {
   "cell_type": "code",
   "execution_count": 19,
   "metadata": {},
   "outputs": [],
   "source": [
    "label_list = ['pt', 'rapidity', 'phi']"
   ]
  },
  {
   "cell_type": "code",
   "execution_count": 24,
   "metadata": {},
   "outputs": [
    {
     "data": {
      "image/png": "[encoded data removed]",
      "text/plain": [
       "<Figure size 432x288 with 1 Axes>"
      ]
     },
     "metadata": {
      "needs_background": "light"
     },
     "output_type": "display_data"
    },
    {
     "data": {
      "image/png": "[encoded data removed]",
      "text/plain": [
       "<Figure size 432x288 with 1 Axes>"
      ]
     },
     "metadata": {
      "needs_background": "light"
     },
     "output_type": "display_data"
    },
    {
     "data": {
      "image/png": "[encoded data removed]",
      "text/plain": [
       "<Figure size 432x288 with 1 Axes>"
      ]
     },
     "metadata": {
      "needs_background": "light"
     },
     "output_type": "display_data"
    }
   ],
   "source": [
    "X = X_train[0]\n",
    "for i in range(3):\n",
    "    \n",
    "    plt.clf()\n",
    "    plt.hist(X[:,:,i].reshape(-1), bins=100)\n",
    "    #plt.xscale('log')\n",
    "    plt.yscale('log')\n",
    "    plt.xlabel(label_list[i], fontsize=14)\n",
    "    plt.show()"
   ]
  },
  {
   "cell_type": "code",
   "execution_count": 28,
   "metadata": {},
   "outputs": [
    {
     "data": {
      "image/png": "[encoded data removed]",
      "text/plain": [
       "<Figure size 432x288 with 1 Axes>"
      ]
     },
     "metadata": {
      "needs_background": "light"
     },
     "output_type": "display_data"
    }
   ],
   "source": [
    "# labels\n",
    "    \n",
    "plt.clf()\n",
    "plt.hist(y_train, bins=10)\n",
    "plt.xlabel('label', fontsize=16)\n",
    "plt.show()"
   ]
  },
  {
   "cell_type": "code",
   "execution_count": null,
   "metadata": {},
   "outputs": [],
   "source": []
  }
 ],
 "metadata": {
  "kernelspec": {
   "display_name": "Python 3",
   "language": "python",
   "name": "python3"
  },
  "language_info": {
   "codemirror_mode": {
    "name": "ipython",
    "version": 3
   },
   "file_extension": ".py",
   "mimetype": "text/x-python",
   "name": "python",
   "nbconvert_exporter": "python",
   "pygments_lexer": "ipython3",
   "version": "3.6.7"
  }
 },
 "nbformat": 4,
 "nbformat_minor": 2
}
