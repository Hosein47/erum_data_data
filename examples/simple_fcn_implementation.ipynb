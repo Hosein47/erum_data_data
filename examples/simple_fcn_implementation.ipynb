{
 "cells": [
  {
   "cell_type": "code",
   "execution_count": null,
   "metadata": {},
   "outputs": [],
   "source": [
    "import erum_data_data as edd\n",
    "import tensorflow as tf\n",
    "from utils import generate_model\n",
    "from utils import train_plots\n",
    "from utils import roc_auc\n",
    "from utils import test_accuracy\n",
    "from utils import test_f1_score"
   ]
  },
  {
   "cell_type": "code",
   "execution_count": null,
   "metadata": {},
   "outputs": [],
   "source": [
    "datasets = [ # uncomment the dataset name you want to train the model on.                           \n",
    "#            'EOSL', \n",
    "#            'spinodal', \n",
    "            'airshower', \n",
    "            'LHCO',\n",
    "            'top',\n",
    "#            'belle'\n",
    "           ]\n",
    "\n",
    "for ds in datasets:\n",
    "    X_train, y_train  = edd.load(ds, dataset='train', cache_dir = './'+ ds, cache_subdir = 'datasets')\n",
    "    X_test, y_test = edd.load(ds, dataset='test', cache_dir = './'+ ds, cache_subdir = 'datasets')\n",
    "    shape1 = X_train[0].shape[1:]\n",
    "    shape2 = X_train[1].shape[1:] if len(X_train) > 1 else 0\n",
    "    \n",
    "    model = generate_model(ds, 15, 256, shape1, shape2)\n",
    "    model.compile(\n",
    "        optimizer=tf.keras.optimizers.Adam(0.001),\n",
    "        loss=tf.keras.losses.BinaryCrossentropy(),\n",
    "        metrics=[tf.keras.metrics.BinaryAccuracy(name = \"acc\"), tf.keras.metrics.AUC(name = \"AUC\")],)\n",
    "\n",
    "    history = model.fit(\n",
    "                        x = X_train, y = y_train,\n",
    "                        shuffle=True,\n",
    "                        validation_split = 0.3,\n",
    "                        epochs=100,\n",
    "                        callbacks = [tf.keras.callbacks.EarlyStopping(monitor='val_loss', min_delta =0.0001, patience=15, restore_best_weights = True)],\n",
    "                        batch_size = 300,\n",
    "                        verbose = 1\n",
    "                    )\n",
    "    \n",
    "    #training history plots\n",
    "    train_plots(history, ds)\n",
    "    \n",
    "    #evaluation plots and scores\n",
    "    y_pred = model.predict(X_test).ravel()\n",
    "    roc_auc(y_pred, y_test, ds, True)\n",
    "    test_accuracy(y_pred, y_test, ds)\n",
    "    test_f1_score(y_pred, y_test, ds)"
   ]
  },
  {
   "cell_type": "code",
   "execution_count": null,
   "metadata": {},
   "outputs": [],
   "source": []
  }
 ],
 "metadata": {
  "kernelspec": {
   "display_name": "Python [conda env:erikConda]",
   "language": "python",
   "name": "conda-env-erikConda-py"
  },
  "language_info": {
   "codemirror_mode": {
    "name": "ipython",
    "version": 3
   },
   "file_extension": ".py",
   "mimetype": "text/x-python",
   "name": "python",
   "nbconvert_exporter": "python",
   "pygments_lexer": "ipython3",
   "version": "3.7.5"
  }
 },
 "nbformat": 4,
 "nbformat_minor": 2
}
