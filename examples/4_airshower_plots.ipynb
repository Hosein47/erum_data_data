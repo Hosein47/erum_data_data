{
 "cells": [
  {
   "cell_type": "code",
   "execution_count": 26,
   "metadata": {},
   "outputs": [
    {
     "name": "stdout",
     "output_type": "stream",
     "text": [
      "imports dones\n"
     ]
    }
   ],
   "source": [
    "import numpy as np\n",
    "import matplotlib.pyplot as plt\n",
    "\n",
    "#import sys\n",
    "#sys.path.append('/home/buhmae/3_erum_data_data/erum_data_data/erum_data_data')\n",
    "#import importlib\n",
    "#import erum_data_data as edd\n",
    "#importlib.reload(edd)\n",
    "\n",
    "# or just:\n",
    "import erum_data_data as edd\n",
    "\n",
    "print('imports dones')"
   ]
  },
  {
   "cell_type": "code",
   "execution_count": 27,
   "metadata": {},
   "outputs": [
    {
     "name": "stdout",
     "output_type": "stream",
     "text": [
      "\n",
      "    \n",
      "Airshower Proton vs Iron Classification\n",
      "\n",
      "Based on https://doi.org/10.1016/j.astropartphys.2017.10.006\n",
      "\n",
      "Produced by jonas.glombitza@rwth-aachen.de\n",
      "    \n",
      "----------------------------------    \n",
      "Dataset shape:\n",
      "\n",
      "Three sets of input data:\n",
      "- first set of input data (shape: [70k, 9, 9, 80]):\n",
      "    - 70k events (airshowers)\n",
      "    - 9x9 = 81 ground detector stations\n",
      "    - 80 measured signal bins (forming one signal trace per station)\n",
      "    -padding: (-1) padding for instances that the detector / or timestep did not detect a particle\n",
      "    \n",
      "- second set of input data (shape: [70k, 9, 9, 1]:\n",
      "    - 70k events (airshowers)\n",
      "    - 9x9 = 81 ground detector stations   \n",
      "    - 1 starting time of the signal trace (arrival time of first particles at each station)\n",
      "\n",
      "- third set of input data\n",
      "    - detector geometry - for reference if needed\n",
      "    - 81 ground detector stations\n",
      "    - 3 features: x,y,z location of each station\n",
      "  \n",
      "---------------------------------- \n",
      "Label: \n",
      "Proton (1) vs. Iron (0) as shower origin particle.\n",
      "Proton to Iron ratio in test & training set is 1:1.\n",
      "\n"
     ]
    }
   ],
   "source": [
    "# dataset description\n",
    "edd.print_description('airshower')"
   ]
  },
  {
   "cell_type": "code",
   "execution_count": 22,
   "metadata": {},
   "outputs": [],
   "source": [
    "# load training and testing set\n",
    "X_train, y_train = edd.load('airshower', 'train', cache_dir = '/home/buhmae/3_erum_data_data/erum_data_data', cache_subdir = 'datasets')\n",
    "X_test, y_test = edd.load('airshower', 'test', cache_dir = '/home/buhmae/3_erum_data_data/erum_data_data', cache_subdir = 'datasets')"
   ]
  },
  {
   "cell_type": "code",
   "execution_count": 23,
   "metadata": {},
   "outputs": [
    {
     "name": "stdout",
     "output_type": "stream",
     "text": [
      "3\n",
      "3\n",
      "(70000, 9, 9, 80)\n",
      "(70000, 9, 9, 1)\n",
      "(81, 3)\n",
      "(70000,)\n",
      "(30000,)\n"
     ]
    }
   ],
   "source": [
    "# checking basic content\n",
    "\n",
    "print(len(X_train))\n",
    "print(len(X_test))\n",
    "\n",
    "print(X_train[0].shape)\n",
    "print(X_train[1].shape)\n",
    "print(X_train[2].shape)\n",
    "\n",
    "print(y_train.shape)\n",
    "print(y_test.shape)"
   ]
  },
  {
   "cell_type": "markdown",
   "metadata": {},
   "source": [
    "# some basic plots"
   ]
  },
  {
   "cell_type": "code",
   "execution_count": 24,
   "metadata": {},
   "outputs": [
    {
     "data": {
      "image/png": "[encoded data removed]",
      "text/plain": [
       "<Figure size 432x288 with 1 Axes>"
      ]
     },
     "metadata": {
      "needs_background": "light"
     },
     "output_type": "display_data"
    },
    {
     "data": {
      "image/png": "[encoded data removed]",
      "text/plain": [
       "<Figure size 432x288 with 1 Axes>"
      ]
     },
     "metadata": {
      "needs_background": "light"
     },
     "output_type": "display_data"
    },
    {
     "data": {
      "image/png": "[encoded data removed]",
      "text/plain": [
       "<Figure size 432x288 with 1 Axes>"
      ]
     },
     "metadata": {
      "needs_background": "light"
     },
     "output_type": "display_data"
    }
   ],
   "source": [
    "X = X_train[0]\n",
    "\n",
    "# total signal histogram\n",
    "plt.clf()\n",
    "plt.hist(X.ravel(), bins = 100)\n",
    "#plt.xscale('log')\n",
    "plt.yscale('log')\n",
    "plt.xlabel('signal', fontsize=16)\n",
    "plt.show()\n",
    "\n",
    "X = X_train[1]\n",
    "\n",
    "# total time histogram\n",
    "plt.clf()\n",
    "plt.hist(X.ravel(), bins = 100)#, range=[-1,0.5])\n",
    "#plt.xscale('log')\n",
    "plt.yscale('log')\n",
    "plt.xlabel('time', fontsize=16)\n",
    "plt.show()\n",
    "\n",
    "# zoom on time without (-1) padding\n",
    "X = X[X > -1].ravel()\n",
    "\n",
    "plt.clf()\n",
    "plt.hist(X, bins = 100)\n",
    "#plt.xscale('log')\n",
    "plt.yscale('log')\n",
    "plt.xlabel('time', fontsize=16)\n",
    "plt.show()"
   ]
  },
  {
   "cell_type": "code",
   "execution_count": 25,
   "metadata": {},
   "outputs": [
    {
     "data": {
      "image/png": "[encoded data removed]",
      "text/plain": [
       "<Figure size 432x288 with 1 Axes>"
      ]
     },
     "metadata": {
      "needs_background": "light"
     },
     "output_type": "display_data"
    }
   ],
   "source": [
    "# labels\n",
    "    \n",
    "plt.clf()\n",
    "plt.hist(y_train, bins=10)\n",
    "plt.xlabel('label', fontsize=16)\n",
    "plt.show()"
   ]
  },
  {
   "cell_type": "code",
   "execution_count": null,
   "metadata": {},
   "outputs": [],
   "source": []
  },
  {
   "cell_type": "code",
   "execution_count": null,
   "metadata": {},
   "outputs": [],
   "source": []
  }
 ],
 "metadata": {
  "kernelspec": {
   "display_name": "Python 3",
   "language": "python",
   "name": "python3"
  },
  "language_info": {
   "codemirror_mode": {
    "name": "ipython",
    "version": 3
   },
   "file_extension": ".py",
   "mimetype": "text/x-python",
   "name": "python",
   "nbconvert_exporter": "python",
   "pygments_lexer": "ipython3",
   "version": "3.6.7"
  }
 },
 "nbformat": 4,
 "nbformat_minor": 2
}
